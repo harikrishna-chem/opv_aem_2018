{
  "cells": [
    {
      "cell_type": "markdown",
      "metadata": {
        "id": "view-in-github",
        "colab_type": "text"
      },
      "source": [
        "<a href=\"https://colab.research.google.com/github/harikrishna-chem/opv_aem_2018/blob/main/predict.ipynb\" target=\"_parent\"><img src=\"https://colab.research.google.com/assets/colab-badge.svg\" alt=\"Open In Colab\"/></a>"
      ]
    },
    {
      "cell_type": "markdown",
      "metadata": {
        "id": "4f6KZnwQri0d"
      },
      "source": [
        "This notebook imports models published in the article titled \"Toward predicting efficiency of organic solar cells via machine learning and improved descriptors\" and offers predictions for the power conversion efficiency (PCE) of new candidates. For more detailed information, please refer to\n",
        "[Adv. Energy Mater. 2018, 8, 1801032](https://doi.org/10.1002/aenm.201801032)."
      ]
    },
    {
      "cell_type": "code",
      "execution_count": 1,
      "metadata": {
        "colab": {
          "base_uri": "https://localhost:8080/"
        },
        "id": "klvat5vnSMF3",
        "outputId": "f72ccec3-9c47-4a0f-82d7-e29a44da884b",
        "cellView": "form"
      },
      "outputs": [
        {
          "output_type": "stream",
          "name": "stdout",
          "text": [
            "/usr/local\n",
            "Predicted PCEs (%) using linear regression (LR), k-nearest neighbor (kNN), artificial neural networks (ANN), random forest (RF), and gradient boosting regression tree (GBRT) models are provided below:\n",
            "           LR       kNN       ANN        RF      GBRT\n",
            "D/A  5.957946  6.894793  6.657736  6.867779  7.537297\n"
          ]
        }
      ],
      "source": [
        "#@title Predict the PCE for a Donor-Acceptor Pair\n",
        "#@markdown ***Please first input your parameters, and then press on the left button to run.***\n",
        "\n",
        "# Import packages\n",
        "import os\n",
        "import pickle\n",
        "import pandas as pd\n",
        "import sklearn\n",
        "from sklearn.preprocessing import StandardScaler\n",
        "from sklearn.preprocessing import MinMaxScaler\n",
        "\n",
        "# Import models\n",
        "if os.path.exists(\"/usr/local/opv_aem_2018\"):\n",
        "  pass\n",
        "else:\n",
        "  %cd /usr/local\n",
        "  !git clone -q https://github.com/harikrishna-chem/opv_aem_2018.git\n",
        "\n",
        "# Load models\n",
        "# Load the LR model\n",
        "with open('/usr/local/opv_aem_2018/models/lr_aem.pkl', 'rb') as file:\n",
        "    lr = pickle.load(file)\n",
        "\n",
        "# Load the ANN model\n",
        "with open('/usr/local/opv_aem_2018/models/ann_aem.pkl', 'rb') as file:\n",
        "    ann = pickle.load(file)\n",
        "\n",
        "# Load the KNN model\n",
        "with open('/usr/local/opv_aem_2018/models/knn_aem.pkl', 'rb') as file:\n",
        "    knn = pickle.load(file)\n",
        "\n",
        "# Load the KNN model\n",
        "with open('/usr/local/opv_aem_2018/models/rf_aem.pkl', 'rb') as file:\n",
        "    rf = pickle.load(file)\n",
        "\n",
        "# Load the KNN model\n",
        "with open('/usr/local/opv_aem_2018/models/gbrt_aem.pkl', 'rb') as file:\n",
        "    gbrt = pickle.load(file)\n",
        "\n",
        "# @markdown ** This will predict the PCE for a new material using given molecular properties calculated at the M06-2X/6-31G(d) level.:**\n",
        "\n",
        "# @markdown 1. Polarizability of the donor molecule (Bohr$^3$):\n",
        "polarizability = 1143.852667 # @param {type:\"number\"}\n",
        "# @markdown 2. The energetic difference of LUMO and LUMO+1 of the acceptor, $\\Delta_{\\rm L}^{\\rm A}$ (eV):\n",
        "delLA = 0.033470 # @param {type:\"number\"}\n",
        "# @markdown 3. The energetic difference of LUMO and LUMO+1 of the donor, $\\Delta_{\\rm L}$ (eV):\n",
        "delLD = 0.047620 # @param {type:\"number\"}\n",
        "# @markdown 4. Number of unsaturated atoms in the main conjugation path of the donor molecule, $N_{\\rm atom}^{\\rm D}$ :\n",
        "N_atom = 58 # @param {type:\"number\"}\n",
        "# @markdown 5. Energy of the electronic transition to a singlet excited state with the largest oscillator strength, $E_{\\rm g}$ (nm):\n",
        "Eg = 453.34 # @param {type:\"number\"}\n",
        "# @markdown 6. Reorganization energy for holes in the donor molecule, $\\lambda_{\\rm h}$ (eV):\n",
        "lambda_h = 0.384475 # @param {type:\"number\"}\n",
        "# @markdown 7. Vertical ionization potential for the donor molecule, IP($v$) (eV):\n",
        "DIP = 6.522940 # @param {type:\"number\"}\n",
        "# @markdown 8. The energetic difference of HOMO of donor and LUMO of acceptor, $E_{\\rm HL}^{\\rm DA}$ (eV):\n",
        "AL_DH = 3.650407 # @param {type:\"number\"}\n",
        "# @markdown 9. The energetic differences of HOMO and HOMO−1 for the donor molecule, $\\Delta_{\\rm H}$ (eV):\n",
        "delHD = 0.345585 # @param {type:\"number\"}\n",
        "# @markdown 10. Hole–electron binding energy in the donor molecule, $E_{\\rm bind}$ (eV):\n",
        "E_bind = 2.080714 # @param {type:\"number\"}\n",
        "# @markdown 11. The energetic difference of LUMO of donor and LUMO of acceptor, $E_{\\rm LL}^{\\rm DA}$ (eV):\n",
        "DL_AL = 0.500962 # @param {type:\"number\"}\n",
        "# @markdown 12. Change in dipole moment in going from the ground state to the first excited state for donor molecule, $\\Delta_{\\rm ge}$ (Debye):\n",
        "delGE = 1.282700 # @param {type:\"number\"}\n",
        "# @markdown 13. Energy of the electronic transition to the lowest-lying triplet state, E$_{\\rm T_1}$ (eV):\n",
        "E_T1 = 1.8899 # @param {type:\"number\"}\n",
        "\n",
        "# Create a pandas DataFrame\n",
        "column_names = ['polarizability', 'delLA', 'delLD', 'N_atom', 'Eg',\n",
        "       'lamda_h', 'DIP', 'AL-DH', 'delHD', 'E_bind', 'DL-AL', 'delGE', 'E_T1']\n",
        "input_data_list = [polarizability,delLA, delLD, N_atom, Eg, lambda_h, DIP, AL_DH, delHD,E_bind, DL_AL, delGE, E_T1]\n",
        "input_data = pd.DataFrame(columns=column_names)\n",
        "input_data.loc[len(input_data)] = input_data_list\n",
        "\n",
        "### Descriptor scaling ###\n",
        "train = pd.read_csv(\"/usr/local/opv_aem_2018/datasets/Train.csv\")\n",
        "trainX = train.to_numpy()[:,2:]\n",
        "testX = input_data.to_numpy()\n",
        "scalerS=StandardScaler()\n",
        "scalerS.fit(trainX)\n",
        "trainX_S = scalerS.transform(trainX)\n",
        "testX_S = scalerS.transform(testX)\n",
        "\n",
        "scalerM=MinMaxScaler()\n",
        "scalerM.fit(trainX)\n",
        "trainX_M = scalerM.transform(trainX)\n",
        "testX_M = scalerM.transform(testX)\n",
        "\n",
        "# Predict the PCE\n",
        "list_pred_PCE = []\n",
        "\n",
        "#LR\n",
        "test_pred_LR = lr.predict(testX)\n",
        "list_pred_PCE.extend(test_pred_LR)\n",
        "\n",
        "#KNN\n",
        "test_pred_KNN = knn.predict(testX_M)\n",
        "list_pred_PCE.extend(test_pred_KNN)\n",
        "\n",
        "#ANN\n",
        "test_pred_ANN = ann.predict(testX_S)\n",
        "list_pred_PCE.extend(test_pred_ANN)\n",
        "\n",
        "#RF\n",
        "test_pred_RF = rf.predict(testX)\n",
        "list_pred_PCE.extend(test_pred_RF)\n",
        "\n",
        "#GBRT\n",
        "test_pred_GB = gbrt.predict(testX)\n",
        "list_pred_PCE.extend(test_pred_GB)\n",
        "\n",
        "model_list = [\"LR\", \"kNN\", \"ANN\", \"RF\", \"GBRT\"]\n",
        "predicted_data = pd.DataFrame(columns=model_list)\n",
        "predicted_data.loc[len(predicted_data)] = list_pred_PCE\n",
        "predicted_data.index = ['D/A']\n",
        "\n",
        "print(\"Predicted PCEs (%) using linear regression (LR), k-nearest neighbor (kNN), artificial neural networks (ANN), random forest (RF), and gradient boosting regression tree (GBRT) models are provided below:\")\n",
        "print(predicted_data)"
      ]
    },
    {
      "cell_type": "markdown",
      "source": [
        "### Batch Prediction for Multiple Donor-Acceptor Pairs\n",
        "In this section, we will demonstrate how to utilize our models for predicting the Power Conversion Efficiency (PCE) of a number of donor-acceptor (D/A) pairs. Please follow the instructions provided on page 33 of the Supporting Information document from the AEM paper to compile a dataset in CSV format (\"candidate.csv\"), containing all required information for the donor-acceptor pairs you intend to use for PCE prediction. Once you have prepared your CSV file, upload it to Colab using the icon in the left column and then click the left button to initiate the process. To illustrate this process, I will use a sample candidate dataset. Users can subsequently download the predicted results, which are saved in the 'predicted_PCE.csv' file accessible through the icon in the left column."
      ],
      "metadata": {
        "id": "D0zhNwiGeKFs"
      }
    },
    {
      "cell_type": "code",
      "source": [
        "# Import packages\n",
        "import os\n",
        "import pickle\n",
        "import pandas as pd\n",
        "import sklearn\n",
        "from sklearn.preprocessing import StandardScaler\n",
        "from sklearn.preprocessing import MinMaxScaler\n",
        "\n",
        "# Import models\n",
        "if os.path.exists(\"/usr/local/opv_aem_2018\"):\n",
        "  pass\n",
        "else:\n",
        "  %cd /usr/local\n",
        "  !git clone -q https://github.com/harikrishna-chem/opv_aem_2018.git\n",
        "\n",
        "# Load models\n",
        "# Load the LR model\n",
        "with open('/usr/local/opv_aem_2018/models/lr_aem.pkl', 'rb') as file:\n",
        "    lr = pickle.load(file)\n",
        "\n",
        "# Load the ANN model\n",
        "with open('/usr/local/opv_aem_2018/models/ann_aem.pkl', 'rb') as file:\n",
        "    ann = pickle.load(file)\n",
        "\n",
        "# Load the KNN model\n",
        "with open('/usr/local/opv_aem_2018/models/knn_aem.pkl', 'rb') as file:\n",
        "    knn = pickle.load(file)\n",
        "\n",
        "# Load the KNN model\n",
        "with open('/usr/local/opv_aem_2018/models/rf_aem.pkl', 'rb') as file:\n",
        "    rf = pickle.load(file)\n",
        "\n",
        "# Load the KNN model\n",
        "with open('/usr/local/opv_aem_2018/models/gbrt_aem.pkl', 'rb') as file:\n",
        "    gbrt = pickle.load(file)\n",
        "\n",
        "if os.path.exists(\"/content/candidate.csv\"):\n",
        "    pass\n",
        "else:\n",
        "    !cp /usr/local/opv_aem_2018/datasets/Test.csv /content/candidate.csv\n",
        "\n",
        "### Read Train and Test data ###\n",
        "train = pd.read_csv(\"/usr/local/opv_aem_2018/datasets/Train.csv\")\n",
        "test = pd.read_csv(\"/content/candidate.csv\")\n",
        "trainX = train.to_numpy()[:,2:]\n",
        "testX = test.to_numpy()[:,2:]\n",
        "\n",
        "### Descriptor scaling ###\n",
        "scalerS=StandardScaler()\n",
        "scalerS.fit(trainX)\n",
        "trainX_S = scalerS.transform(trainX)\n",
        "testX_S = scalerS.transform(testX)\n",
        "\n",
        "scalerM=MinMaxScaler()\n",
        "scalerM.fit(trainX)\n",
        "trainX_M = scalerM.transform(trainX)\n",
        "testX_M = scalerM.transform(testX)\n",
        "\n",
        "# Predict the PCE\n",
        "#LR\n",
        "test_pred_LR = lr.predict(testX)\n",
        "\n",
        "#KNN\n",
        "test_pred_KNN = knn.predict(testX_M)\n",
        "\n",
        "#ANN\n",
        "test_pred_ANN = ann.predict(testX_S)\n",
        "\n",
        "#RF\n",
        "test_pred_RF = rf.predict(testX)\n",
        "\n",
        "#GBRT\n",
        "test_pred_GB = gbrt.predict(testX)\n",
        "\n",
        "# Create a pandas DataFrame for predicted PCEs\n",
        "pred_df = pd.DataFrame() #test[:,0]\n",
        "pred_df['SN'] = test.iloc[:, 0]\n",
        "pred_df['LR'] = test_pred_LR\n",
        "pred_df['kNN'] = test_pred_KNN\n",
        "pred_df['ANN'] = test_pred_ANN\n",
        "pred_df['RF'] = test_pred_RF\n",
        "pred_df['GBRT'] = test_pred_GB\n",
        "\n",
        "# Save the data in a CSV file\n",
        "pred_df.to_csv(\"/content/predicted_PCE.csv\")\n",
        "\n",
        "print(\"Predicted PCEs (%) using linear regression (LR), k-nearest neighbor (kNN), artificial neural networks (ANN), random forest (RF), and gradient boosting regression tree (GBRT) models are provided below:\")\n",
        "print(pred_df)"
      ],
      "metadata": {
        "id": "ttUgHtvWthf-",
        "colab": {
          "base_uri": "https://localhost:8080/"
        },
        "outputId": "73b701da-97e7-4d52-8579-5b2d600ec497"
      },
      "execution_count": 3,
      "outputs": [
        {
          "output_type": "stream",
          "name": "stdout",
          "text": [
            "Predicted PCEs (%) using linear regression (LR), k-nearest neighbor (kNN), artificial neural networks (ANN), random forest (RF), and gradient boosting regression tree (GBRT) models are provided below:\n",
            "    SN        LR       kNN       ANN        RF      GBRT\n",
            "0   49  5.957947  6.894791  6.657738  6.863784  7.537297\n",
            "1  200  3.713405  4.709338  3.869178  3.341831  3.368673\n",
            "2  267  1.403432  1.178437  1.898073  1.822651  1.799663\n",
            "3   16  7.295168  8.020000  7.735599  7.583088  7.951715\n",
            "4    4  6.436520  7.676667  7.237478  7.663054  7.715267\n",
            "5   27  7.741166  7.821983  8.010157  6.994241  7.106885\n"
          ]
        }
      ]
    },
    {
      "cell_type": "markdown",
      "metadata": {
        "id": "OmIrmhyUoltx"
      },
      "source": [
        "# References and further reading\n",
        "\n",
        "- Harikrishna Sahu,  Weining Rao,  Alessandro Troisi,  Haibo Ma, *Toward predicting efficiency of organic solar cells via machine learning and improved descriptors*, Adv. Energy Mater. 2018, 8, 1801032. DOI: [10.1002/aenm.201801032](https://doi.org/10.1002/aenm.201801032)"
      ]
    }
  ],
  "metadata": {
    "colab": {
      "provenance": [],
      "include_colab_link": true
    },
    "kernelspec": {
      "display_name": "Python 3",
      "name": "python3"
    },
    "language_info": {
      "name": "python"
    }
  },
  "nbformat": 4,
  "nbformat_minor": 0
}